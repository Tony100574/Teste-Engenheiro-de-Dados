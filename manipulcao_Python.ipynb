{
 "cells": [
  {
   "cell_type": "markdown",
   "metadata": {},
   "source": [
    "Script em Python que lê os dados de uma tabela num banco MySQL, consolida os dados e salva numa outra tabela de um banco local MySQL."
   ]
  },
  {
   "cell_type": "code",
   "execution_count": 1,
   "metadata": {},
   "outputs": [
    {
     "name": "stdout",
     "output_type": "stream",
     "text": [
      "Requirement already satisfied: mysql-connector-python in /Library/Frameworks/Python.framework/Versions/3.12/lib/python3.12/site-packages (8.3.0)\n",
      "Note: you may need to restart the kernel to use updated packages.\n"
     ]
    }
   ],
   "source": [
    "pip install mysql-connector-python"
   ]
  },
  {
   "cell_type": "code",
   "execution_count": 2,
   "metadata": {},
   "outputs": [
    {
     "name": "stdout",
     "output_type": "stream",
     "text": [
      "Requirement already satisfied: pandas in /Library/Frameworks/Python.framework/Versions/3.12/lib/python3.12/site-packages (2.2.1)\n",
      "Requirement already satisfied: numpy<2,>=1.26.0 in /Library/Frameworks/Python.framework/Versions/3.12/lib/python3.12/site-packages (from pandas) (1.26.4)\n",
      "Requirement already satisfied: python-dateutil>=2.8.2 in /Users/tonysilva/Library/Python/3.12/lib/python/site-packages (from pandas) (2.9.0.post0)\n",
      "Requirement already satisfied: pytz>=2020.1 in /Library/Frameworks/Python.framework/Versions/3.12/lib/python3.12/site-packages (from pandas) (2024.1)\n",
      "Requirement already satisfied: tzdata>=2022.7 in /Library/Frameworks/Python.framework/Versions/3.12/lib/python3.12/site-packages (from pandas) (2024.1)\n",
      "Requirement already satisfied: six>=1.5 in /Users/tonysilva/Library/Python/3.12/lib/python/site-packages (from python-dateutil>=2.8.2->pandas) (1.16.0)\n",
      "Note: you may need to restart the kernel to use updated packages.\n"
     ]
    }
   ],
   "source": [
    "pip install pandas"
   ]
  },
  {
   "cell_type": "code",
   "execution_count": 3,
   "metadata": {},
   "outputs": [
    {
     "name": "stderr",
     "output_type": "stream",
     "text": [
      "/var/folders/n_/sns0jy897853mnl32jkbqpdm0000gn/T/ipykernel_5918/1954775806.py:24: UserWarning: pandas only supports SQLAlchemy connectable (engine/connection) or database string URI or sqlite3 DBAPI2 connection. Other DBAPI2 objects are not tested. Please consider using SQLAlchemy.\n",
      "  df = pd.read_sql(query, con=con_remote)\n"
     ]
    }
   ],
   "source": [
    "import mysql.connector as mysql\n",
    "import pandas as pd\n",
    "\n",
    "# Conexão ao banco de dados remoto\n",
    "con_remote = mysql.connect(\n",
    "    host=\"40b8f30251.nxcli.io\",\n",
    "    port=3306,\n",
    "    user=\"a4f2b49a_padawan\",\n",
    "    password=\"KaratFlanksUgliedSpinal\",\n",
    "    database=\"a4f2b49a_sample_database\",\n",
    ")\n",
    "\n",
    "# Conexão ao banco de dados local\n",
    "con_local = mysql.connect(\n",
    "    host=\"localhost\",\n",
    "    port=3306,\n",
    "    user=\"root\",\n",
    "    password=\"tom*1005\",\n",
    "    database=\"H2_schema\", auth_plugin='mysql_native_password'\n",
    ")\n",
    "\n",
    "# Leitura dos dados da tabela \"raw_data\"\n",
    "query = \"SELECT * FROM raw_data\"\n",
    "df = pd.read_sql(query, con=con_remote)\n",
    "\n",
    "# Consolidação dos dados por mês\n",
    "df['datahora_acesso'] = df['datahora_acesso'].str[:10]  # Pega apenas os primeiros 10 caracteres (YYYY-MM-DD)\n",
    "df['mes'] = pd.to_datetime(df['datahora_acesso'], format='%Y-%m-%d').dt.month\n",
    "\n",
    "def filter_cash_game(df_group):\n",
    "    return df_group[df_group['modalidade'] == 'Cash Game']\n",
    "\n",
    "def filter_torneio(df_group):\n",
    "    return df_group[df_group['modalidade'] == 'Torneio']\n",
    "\n",
    "cash_game_filtered = filter_cash_game(df)\n",
    "torneio_filtered = filter_torneio(df)\n",
    "\n",
    "df_consolidado = df.groupby('mes').agg(\n",
    "    rake=pd.NamedAgg(column='rake', aggfunc='sum'),\n",
    "    jogadores=pd.NamedAgg(column='clientes_id', aggfunc='nunique'),\n",
    "    rake_cash_game=pd.NamedAgg(column='rake', aggfunc=lambda x: cash_game_filtered['rake'].sum()),  # Use filtered column directly\n",
    "    rake_torneio=pd.NamedAgg(column='rake', aggfunc=lambda x: torneio_filtered['rake'].sum()),  # Use filtered column directly\n",
    "    jogadores_cash_game=pd.NamedAgg(column='clientes_id', aggfunc='nunique'),  # No data argument needed\n",
    "    jogadores_torneio=pd.NamedAgg(column='clientes_id', aggfunc='nunique'),  # No data argument needed\n",
    ")\n",
    "\n",
    "\n",
    "\n",
    "\n",
    "\n",
    "# Criação da tabela \"consolidado\" no banco local\n",
    "cursor = con_local.cursor()\n",
    "cursor.execute(\"\"\"\n",
    "    CREATE TABLE IF NOT EXISTS consolidado (\n",
    "        mes INT,\n",
    "        rake DECIMAL(10,2),\n",
    "        jogadores INT,\n",
    "        rake_cash_game DECIMAL(10,2),\n",
    "        rake_torneio DECIMAL(10,2),\n",
    "        jogadores_cash_game INT,\n",
    "        jogadores_torneio INT\n",
    "    )\n",
    "\"\"\")\n",
    "\n",
    "# Gravação dos dados consolidados no banco local\n",
    "for row in df_consolidado.to_dict('records'):\n",
    "    cursor.execute(\"\"\"\n",
    "        INSERT INTO consolidado (rake, jogadores, rake_cash_game, rake_torneio, jogadores_cash_game, jogadores_torneio)\n",
    "        VALUES (%s, %s, %s, %s, %s, %s)\n",
    "    \"\"\", (row['rake'], row['jogadores'], row['rake_cash_game'], row['rake_torneio'], row['jogadores_cash_game'], row['jogadores_torneio']))\n",
    "\n",
    "con_local.commit()\n",
    "\n",
    "# Fechamento das conexões\n",
    "con_remote.close()\n",
    "con_local.close()\n"
   ]
  }
 ],
 "metadata": {
  "kernelspec": {
   "display_name": "Python 3",
   "language": "python",
   "name": "python3"
  },
  "language_info": {
   "codemirror_mode": {
    "name": "ipython",
    "version": 3
   },
   "file_extension": ".py",
   "mimetype": "text/x-python",
   "name": "python",
   "nbconvert_exporter": "python",
   "pygments_lexer": "ipython3",
   "version": "3.12.2"
  }
 },
 "nbformat": 4,
 "nbformat_minor": 2
}
