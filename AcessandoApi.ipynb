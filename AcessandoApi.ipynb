{
 "cells": [
  {
   "cell_type": "code",
   "execution_count": 2,
   "metadata": {},
   "outputs": [
    {
     "name": "stdout",
     "output_type": "stream",
     "text": [
      "Defaulting to user installation because normal site-packages is not writeable\n",
      "Collecting mysql-connector-python\n",
      "  Downloading mysql_connector_python-8.3.0-cp39-cp39-macosx_13_0_x86_64.whl (16.1 MB)\n",
      "\u001b[K     |████████████████████████████████| 16.1 MB 5.3 MB/s eta 0:00:01    |██████████████████▊             | 9.5 MB 2.6 MB/s eta 0:00:03\n",
      "\u001b[?25hInstalling collected packages: mysql-connector-python\n",
      "Successfully installed mysql-connector-python-8.3.0\n",
      "\u001b[33mWARNING: You are using pip version 21.2.4; however, version 24.0 is available.\n",
      "You should consider upgrading via the '/Library/Developer/CommandLineTools/usr/bin/python3 -m pip install --upgrade pip' command.\u001b[0m\n",
      "Note: you may need to restart the kernel to use updated packages.\n"
     ]
    }
   ],
   "source": [
    "pip install mysql-connector-python"
   ]
  },
  {
   "cell_type": "code",
   "execution_count": 4,
   "metadata": {},
   "outputs": [
    {
     "name": "stdout",
     "output_type": "stream",
     "text": [
      "Defaulting to user installation because normal site-packages is not writeable\n",
      "Collecting requests\n",
      "  Downloading requests-2.31.0-py3-none-any.whl (62 kB)\n",
      "\u001b[K     |████████████████████████████████| 62 kB 1.1 MB/s eta 0:00:01\n",
      "\u001b[?25hCollecting charset-normalizer<4,>=2\n",
      "  Downloading charset_normalizer-3.3.2-cp39-cp39-macosx_10_9_x86_64.whl (122 kB)\n",
      "\u001b[K     |████████████████████████████████| 122 kB 2.1 MB/s eta 0:00:01\n",
      "\u001b[?25hCollecting certifi>=2017.4.17\n",
      "  Downloading certifi-2024.2.2-py3-none-any.whl (163 kB)\n",
      "\u001b[K     |████████████████████████████████| 163 kB 5.9 MB/s eta 0:00:01\n",
      "\u001b[?25hCollecting idna<4,>=2.5\n",
      "  Downloading idna-3.6-py3-none-any.whl (61 kB)\n",
      "\u001b[K     |████████████████████████████████| 61 kB 90 kB/s  eta 0:00:01\n",
      "\u001b[?25hCollecting urllib3<3,>=1.21.1\n",
      "  Downloading urllib3-2.2.1-py3-none-any.whl (121 kB)\n",
      "\u001b[K     |████████████████████████████████| 121 kB 9.0 MB/s eta 0:00:01\n",
      "\u001b[?25hInstalling collected packages: urllib3, idna, charset-normalizer, certifi, requests\n",
      "Successfully installed certifi-2024.2.2 charset-normalizer-3.3.2 idna-3.6 requests-2.31.0 urllib3-2.2.1\n",
      "\u001b[33mWARNING: You are using pip version 21.2.4; however, version 24.0 is available.\n",
      "You should consider upgrading via the '/Library/Developer/CommandLineTools/usr/bin/python3 -m pip install --upgrade pip' command.\u001b[0m\n",
      "Note: you may need to restart the kernel to use updated packages.\n"
     ]
    }
   ],
   "source": [
    "pip install requests"
   ]
  },
  {
   "cell_type": "code",
   "execution_count": null,
   "metadata": {},
   "outputs": [],
   "source": [
    "pip install --index-url https://test.pypi.org pacote"
   ]
  },
  {
   "cell_type": "code",
   "execution_count": 11,
   "metadata": {},
   "outputs": [
    {
     "ename": "AttributeError",
     "evalue": "'list' object has no attribute 'get'",
     "output_type": "error",
     "traceback": [
      "\u001b[0;31m---------------------------------------------------------------------------\u001b[0m",
      "\u001b[0;31mAttributeError\u001b[0m                            Traceback (most recent call last)",
      "Cell \u001b[0;32mIn[11], line 30\u001b[0m\n\u001b[1;32m     27\u001b[0m data \u001b[38;5;241m=\u001b[39m response\u001b[38;5;241m.\u001b[39mjson()\n\u001b[1;32m     29\u001b[0m data \u001b[38;5;241m=\u001b[39m response\u001b[38;5;241m.\u001b[39mjson()\n\u001b[0;32m---> 30\u001b[0m partidas \u001b[38;5;241m=\u001b[39m \u001b[43mdata\u001b[49m\u001b[38;5;241;43m.\u001b[39;49m\u001b[43mget\u001b[49m(\u001b[38;5;124m\"\u001b[39m\u001b[38;5;124mresults\u001b[39m\u001b[38;5;124m\"\u001b[39m)  \u001b[38;5;66;03m# Access using get() with a default value\u001b[39;00m\n\u001b[1;32m     32\u001b[0m \u001b[38;5;66;03m# Rest of your code to process partidas\u001b[39;00m\n\u001b[1;32m     34\u001b[0m \u001b[38;5;28;01mif\u001b[39;00m partidas \u001b[38;5;129;01mis\u001b[39;00m \u001b[38;5;28;01mNone\u001b[39;00m:\n",
      "\u001b[0;31mAttributeError\u001b[0m: 'list' object has no attribute 'get'"
     ]
    }
   ],
   "source": [
    "import requests\n",
    "import mysql.connector as mysql\n",
    "import json\n",
    "\n",
    "# Configuração da API\n",
    "api_key = \"e4c2ff1dcbmshdd75a167fb67f7dp133d07jsn17029241b984\"\n",
    "api_host = \"odds.p.rapidapi.com\"\n",
    "endpoint = \"https://odds.p.rapidapi.com/v4/sports/soccer_epl/scores\"\n",
    "\n",
    "# Conexão ao banco local\n",
    "con_local = mysql.connect(\n",
    "    host=\"localhost\",\n",
    "    port=3306,\n",
    "    user=\"root\",\n",
    "    password=\"tom*1005\",\n",
    "    database=\"H2_schema\", auth_plugin='mysql_native_password'\n",
    ")\n",
    "\n",
    "# Requisição à API\n",
    "headers = {\n",
    "    \"X-RapidAPI-Key\": api_key,\n",
    "    \"X-RapidAPI-Host\": api_host,\n",
    "}\n",
    "\n",
    "\n",
    "response = requests.get(endpoint, headers=headers)\n",
    "data = response.json()\n",
    "\n",
    "data = response.json()\n",
    "partidas = data.get(\"results\")  # Access using get() with a default value\n",
    "\n",
    "# Rest of your code to process partidas\n",
    "\n",
    "if partidas is None:\n",
    "  print(\"Error: 'results' key not found in the response data.\")\n",
    "  \n",
    "\n",
    "try:\n",
    "    data = response.json()\n",
    "    if isinstance(data, dict):  # Check if data is a dictionary\n",
    "        partidas = data.get(\"results\")\n",
    "    elif isinstance(data, list):  # Check if data is a list (optional)\n",
    "        # Handle the list case (may require further processing based on API structure)\n",
    "        print(\"Warning: 'results' key not found in the response data (list received).\")\n",
    "    else:\n",
    "        raise ValueError(\"Unexpected data type in response\")\n",
    "except json.JSONDecodeError as e:\n",
    "    print(\"Error decoding JSON response:\", e)\n",
    "\n",
    "\n",
    "# Extração dos dados\n",
    "partidas = data[\"results\"]\n",
    "\n",
    "# Criação da tabela \"matchs_epl\"\n",
    "cursor = con.cursor()\n",
    "cursor.execute(\"\"\"\n",
    "    CREATE TABLE IF NOT EXISTS matchs_epl (\n",
    "        datahora_partida DATETIME,\n",
    "        data_partida DATE,\n",
    "        time_casa VARCHAR(255),\n",
    "        time_fora VARCHAR(255),\n",
    "        gols_time_casa INT,\n",
    "        gols_time_fora INT\n",
    "    )\n",
    "\"\"\")\n",
    "\n",
    "# Gravação dos dados na tabela\n",
    "for partida in partidas:\n",
    "    datahora_partida = partida[\"commence_time\"]\n",
    "    data_partida = datahora_partida.split(\"T\")[0]\n",
    "    time_casa = partida[\"home\"][\"name\"]\n",
    "    time_fora = partida[\"away\"][\"name\"]\n",
    "    gols_time_casa = partida[\"score\"][\"home\"]\n",
    "    gols_time_fora = partida[\"score\"][\"away\"]\n",
    "\n",
    "    cursor.execute(\"\"\"\n",
    "        INSERT INTO matchs_epl (datahora_partida, data_partida, time_casa, time_fora, gols_time_casa, gols_time_fora)\n",
    "        VALUES (%s, %s, %s, %s, %s, %s)\n",
    "    \"\"\", (datahora_partida, data_partida, time_casa, time_fora, gols_time_casa, gols_time_fora))\n",
    "\n",
    "con.commit()\n",
    "\n",
    "# Fechamento da conexão\n",
    "con.close()\n"
   ]
  }
 ],
 "metadata": {
  "kernelspec": {
   "display_name": "Python 3",
   "language": "python",
   "name": "python3"
  },
  "language_info": {
   "codemirror_mode": {
    "name": "ipython",
    "version": 3
   },
   "file_extension": ".py",
   "mimetype": "text/x-python",
   "name": "python",
   "nbconvert_exporter": "python",
   "pygments_lexer": "ipython3",
   "version": "3.9.6"
  }
 },
 "nbformat": 4,
 "nbformat_minor": 2
}
